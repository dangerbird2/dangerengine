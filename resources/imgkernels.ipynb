{
 "cells": [
  {
   "cell_type": "code",
   "execution_count": 132,
   "metadata": {
    "collapsed": false
   },
   "outputs": [],
   "source": [
    "from PIL import Image, ImageColor\n",
    "import numpy as np\n",
    "import pyopencl as cl"
   ]
  },
  {
   "cell_type": "code",
   "execution_count": 204,
   "metadata": {
    "collapsed": false
   },
   "outputs": [
    {
     "ename": "ValueError",
     "evalue": "The truth value of an array with more than one element is ambiguous. Use a.any() or a.all()",
     "output_type": "error",
     "traceback": [
      "\u001b[0;31m---------------------------------------------------------------------------\u001b[0m",
      "\u001b[0;31mValueError\u001b[0m                                Traceback (most recent call last)",
      "\u001b[0;32m<ipython-input-204-3823cad9143a>\u001b[0m in \u001b[0;36m<module>\u001b[0;34m()\u001b[0m\n\u001b[1;32m     68\u001b[0m     \u001b[0;32mreturn\u001b[0m \u001b[0mvals\u001b[0m\u001b[0;34m\u001b[0m\u001b[0m\n\u001b[1;32m     69\u001b[0m \u001b[0;34m\u001b[0m\u001b[0m\n\u001b[0;32m---> 70\u001b[0;31m \u001b[0mkernel_vals\u001b[0m\u001b[0;34m(\u001b[0m\u001b[0mimg_toarray\u001b[0m\u001b[0;34m(\u001b[0m\u001b[0mim\u001b[0m\u001b[0;34m)\u001b[0m\u001b[0;34m,\u001b[0m \u001b[0;34m(\u001b[0m\u001b[0;36m0\u001b[0m\u001b[0;34m,\u001b[0m \u001b[0;36m0\u001b[0m\u001b[0;34m)\u001b[0m\u001b[0;34m,\u001b[0m \u001b[0mkernel\u001b[0m\u001b[0;34m)\u001b[0m\u001b[0;34m\u001b[0m\u001b[0m\n\u001b[0m",
      "\u001b[0;32m<ipython-input-204-3823cad9143a>\u001b[0m in \u001b[0;36mkernel_vals\u001b[0;34m(img, pos, k)\u001b[0m\n\u001b[1;32m     53\u001b[0m \u001b[0;34m\u001b[0m\u001b[0m\n\u001b[1;32m     54\u001b[0m \u001b[0;32mdef\u001b[0m \u001b[0mkernel_vals\u001b[0m\u001b[0;34m(\u001b[0m\u001b[0mimg\u001b[0m\u001b[0;34m,\u001b[0m \u001b[0mpos\u001b[0m\u001b[0;34m,\u001b[0m \u001b[0mk\u001b[0m\u001b[0;34m)\u001b[0m\u001b[0;34m:\u001b[0m\u001b[0;34m\u001b[0m\u001b[0m\n\u001b[0;32m---> 55\u001b[0;31m     \u001b[0;32mif\u001b[0m \u001b[0;32mnot\u001b[0m \u001b[0mimg\u001b[0m\u001b[0;34m:\u001b[0m\u001b[0;34m\u001b[0m\u001b[0m\n\u001b[0m\u001b[1;32m     56\u001b[0m         \u001b[0;32mreturn\u001b[0m \u001b[0;36m0\u001b[0m\u001b[0;34m\u001b[0m\u001b[0m\n\u001b[1;32m     57\u001b[0m     \u001b[0ml\u001b[0m \u001b[0;34m=\u001b[0m \u001b[0mkernel_locs\u001b[0m\u001b[0;34m(\u001b[0m\u001b[0mimg\u001b[0m\u001b[0;34m.\u001b[0m\u001b[0mshape\u001b[0m\u001b[0;34m[\u001b[0m\u001b[0;34m:\u001b[0m\u001b[0;36m2\u001b[0m\u001b[0;34m]\u001b[0m\u001b[0;34m,\u001b[0m \u001b[0mpos\u001b[0m\u001b[0;34m)\u001b[0m\u001b[0;34m\u001b[0m\u001b[0m\n",
      "\u001b[0;31mValueError\u001b[0m: The truth value of an array with more than one element is ambiguous. Use a.any() or a.all()"
     ]
    }
   ],
   "source": [
    "path = 'art/dummy.jpeg'\n",
    "im = Image.open(path)\n",
    "\n",
    "\n",
    "kernel = np.array(\n",
    "    [[0, 0, 0],\n",
    "     [0, 1, 0],\n",
    "     [0, 0, 0]])\n",
    "\n",
    "def ipix_tofloats(p):\n",
    "    p = [float(i/255.0) for i in np.nditer(p)]\n",
    "    if len(p) == 3:\n",
    "        p.append(1.0)\n",
    "    return np.array(p, dtype=np.float32)\n",
    "\n",
    "def img_toarray(img, n_channels=3):\n",
    "    arr = np.array(img.getdata(), dtype=np.int8)\n",
    "    # convert to int vals\n",
    "    shape = (img.size[0], img.size[1], 4)\n",
    "    arr = [ipix_tofloats(i) for i in np.nditer(arr)]\n",
    "    return np.array(arr)\n",
    "    #return np.reshape(arr, shape)\n",
    "    \n",
    "\n",
    "def array_toimg(arr):\n",
    "    width, height, n_channels = arr.shape\n",
    "    mode = 'RGBA'\n",
    "    img = Image.fromarray(arr, mode=mode)\n",
    "\n",
    "    return img\n",
    "\n",
    "def kernel_locs (size, pos):\n",
    "    width, height = size\n",
    "    x, y  = pos\n",
    "    def fn(i, j):\n",
    "        i = i + x\n",
    "        j = j + y\n",
    "        if i >= width or i < 0:\n",
    "            i = None\n",
    "        if j >= height or j < 0:\n",
    "            j = None\n",
    "        return (i, j)\n",
    "\n",
    "        \n",
    "    pixel_locs =np.array([\n",
    "        (-1, -1), (0, -1), (1, -1),\n",
    "        (-1,  0), (0,  0), (1,  0),\n",
    "        (-1,  1), (0,  1), (1,  1)], dtype=int)\n",
    "    pixel_locs = [fn(*n) for n in pixel_locs]\n",
    "\n",
    "    \n",
    "    return np.reshape(pixel_locs, (3, 3, 2))\n",
    "\n",
    "def kernel_vals(img, pos, k):\n",
    "    if img == None:\n",
    "        return 0\n",
    "    l = kernel_locs(img.shape[:2], pos)\n",
    "    s = l.shape\n",
    "    idxs = [(i, j) for j in xrange(s[0]) for i in xrange(s[1])]\n",
    "    def fn(i, j):\n",
    "        x, y = tuple(l[i, j])\n",
    "        if x != None and y != None:\n",
    "            return img[i,j]\n",
    "        else: return 0\n",
    "        \n",
    "    vals = [fn(*n) for n in idxs]\n",
    "\n",
    "    return vals\n",
    "    \n",
    "kernel_vals(img_toarray(im), (0, 0), kernel)"
   ]
  },
  {
   "cell_type": "code",
   "execution_count": 192,
   "metadata": {
    "collapsed": false
   },
   "outputs": [
    {
     "data": {
      "text/plain": [
       "6"
      ]
     },
     "execution_count": 192,
     "metadata": {},
     "output_type": "execute_result"
    }
   ],
   "source": []
  },
  {
   "cell_type": "code",
   "execution_count": 152,
   "metadata": {
    "collapsed": false
   },
   "outputs": [
    {
     "ename": "AttributeError",
     "evalue": "'tuple' object has no attribute 'append'",
     "output_type": "error",
     "traceback": [
      "\u001b[0;31m---------------------------------------------------------------------------\u001b[0m",
      "\u001b[0;31mAttributeError\u001b[0m                            Traceback (most recent call last)",
      "\u001b[0;32m<ipython-input-152-9223774e05af>\u001b[0m in \u001b[0;36m<module>\u001b[0;34m()\u001b[0m\n\u001b[0;32m----> 1\u001b[0;31m \u001b[0;34m(\u001b[0m\u001b[0;36m1\u001b[0m\u001b[0;34m,\u001b[0m \u001b[0;36m2\u001b[0m\u001b[0;34m)\u001b[0m\u001b[0;34m.\u001b[0m\u001b[0mappend\u001b[0m\u001b[0;34m(\u001b[0m\u001b[0;36m2\u001b[0m\u001b[0;34m)\u001b[0m\u001b[0;34m\u001b[0m\u001b[0m\n\u001b[0m",
      "\u001b[0;31mAttributeError\u001b[0m: 'tuple' object has no attribute 'append'"
     ]
    }
   ],
   "source": []
  },
  {
   "cell_type": "code",
   "execution_count": null,
   "metadata": {
    "collapsed": true
   },
   "outputs": [],
   "source": []
  }
 ],
 "metadata": {
  "kernelspec": {
   "display_name": "Python 2",
   "language": "python",
   "name": "python2"
  },
  "language_info": {
   "codemirror_mode": {
    "name": "ipython",
    "version": 2
   },
   "file_extension": ".py",
   "mimetype": "text/x-python",
   "name": "python",
   "nbconvert_exporter": "python",
   "pygments_lexer": "ipython2",
   "version": "2.7.12"
  }
 },
 "nbformat": 4,
 "nbformat_minor": 1
}
